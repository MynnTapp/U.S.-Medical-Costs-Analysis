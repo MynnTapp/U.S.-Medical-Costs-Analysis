{
 "cells": [
  {
   "cell_type": "markdown",
   "metadata": {},
   "source": [
    "# U.S. Medical Insurance Costs"
   ]
  },
  {
   "cell_type": "markdown",
   "metadata": {},
   "source": [
    "## Introduction:\n",
    "This notebook explores trends and relationships within a U.S. medical insurance dataset. The dataset contains attributes like age, sex, BMI, number of children, smoking status, region, and insurance charges.\n",
    "\n",
    "The goal is to answer several exploratory questions to uncover patterns related to smoking, gender, region, and insurance cost.\n"
   ]
  },
  {
   "cell_type": "markdown",
   "metadata": {},
   "source": [
    "## Goals:\n",
    "We aim to answer the following questions:\n",
    "- Do people in the Southwest smoke more than people in the Northwest?\n",
    "- What is the average age of someone with at least one child or more?\n",
    "- What is the average insurance cost for smokers in the Northwest?\n",
    "- What is the average BMI for people who smoke?\n",
    "- What is the average BMI for people who do not smoke?\n",
    "- What is the average insurance cost for females?\n",
    "- What is the average insurance cost for males?\n",
    "- Is there a significant difference in average insurance cost between smokers and non-smokers?\n",
    "- Which region has the highest number of smokers?\n",
    "- Are there more male smokers than female smokers?\n"
   ]
  },
  {
   "cell_type": "markdown",
   "metadata": {},
   "source": [
    "## Load Data\n",
    "\n"
   ]
  },
  {
   "cell_type": "code",
   "execution_count": null,
   "metadata": {},
   "outputs": [],
   "source": [
    "import csv\n",
    "\n",
    "with open(\"insurance.csv\") as insurance_data:\n",
    "    insurance_data_object = csv.DictReader(insurance_data)\n",
    "    insurance_object = list(insurance_data_object)\n",
    "print(insurance_object)"
   ]
  },
  {
   "cell_type": "markdown",
   "metadata": {},
   "source": [
    "## Exploratory Data Analysis (EDA)"
   ]
  },
  {
   "cell_type": "markdown",
   "metadata": {},
   "source": [
    "### Are there more smokers in the Southwest than in the Northwest?"
   ]
  },
  {
   "cell_type": "code",
   "execution_count": 44,
   "metadata": {},
   "outputs": [
    {
     "name": "stdout",
     "output_type": "stream",
     "text": [
      "58 58\n"
     ]
    }
   ],
   "source": [
    "southwest_smokers = []\n",
    "northwest_smokers = []\n",
    "for i in insurance_object:\n",
    "    if i[\"smoker\"] == \"yes\" and i[\"region\"] == \"southwest\":\n",
    "        southwest_smokers.append(i)\n",
    "    elif i[\"smoker\"] == \"yes\" and i[\"region\"] == \"northwest\":\n",
    "        northwest_smokers.append(i)\n",
    "print(len(southwest_smokers), len(northwest_smokers))"
   ]
  },
  {
   "cell_type": "markdown",
   "metadata": {},
   "source": [
    "### What is the average age of someone with at least one child or more?"
   ]
  },
  {
   "cell_type": "code",
   "execution_count": 45,
   "metadata": {},
   "outputs": [
    {
     "name": "stdout",
     "output_type": "stream",
     "text": [
      "39.8\n"
     ]
    }
   ],
   "source": [
    "people_with_children = []\n",
    "\n",
    "for i in insurance_object:\n",
    "    if i[\"children\"] or i[\"age\"]:\n",
    "        i[\"children\"] = int(i[\"children\"])\n",
    "        i[\"age\"] = int(i[\"age\"])\n",
    "# print(insurance_object)\n",
    "\n",
    "sum_of_ages = 0\n",
    "\n",
    "for j in insurance_object:\n",
    "    if j[\"children\"] > 0:\n",
    "        people_with_children.append(j)\n",
    "        sum_of_ages += j[\"age\"]\n",
    "average_age = round(sum_of_ages/len(people_with_children), 1)\n",
    "print(average_age)"
   ]
  },
  {
   "cell_type": "markdown",
   "metadata": {},
   "source": [
    "### What is the average insurance cost for smokers in the Northwest?"
   ]
  },
  {
   "cell_type": "code",
   "execution_count": 46,
   "metadata": {},
   "outputs": [
    {
     "name": "stdout",
     "output_type": "stream",
     "text": [
      "12417.58\n"
     ]
    }
   ],
   "source": [
    "sum_of_insurance_cost = 0\n",
    "count = 0\n",
    "\n",
    "for i in insurance_object:\n",
    "    if i[\"charges\"]:\n",
    "        i[\"charges\"] = float(i[\"charges\"])\n",
    "\n",
    "\n",
    "for j in insurance_object:\n",
    "    if j[\"region\"] == \"northwest\":\n",
    "        sum_of_insurance_cost += j[\"charges\"]\n",
    "        count += 1\n",
    "average_insurance_northwest = round(sum_of_insurance_cost/count, 2)\n",
    "print(average_insurance_northwest)"
   ]
  },
  {
   "cell_type": "markdown",
   "metadata": {},
   "source": [
    "### What is the average BMI for people who smoke?"
   ]
  },
  {
   "cell_type": "code",
   "execution_count": 47,
   "metadata": {},
   "outputs": [
    {
     "name": "stdout",
     "output_type": "stream",
     "text": [
      "30.71\n"
     ]
    }
   ],
   "source": [
    "bmi_sum = 0\n",
    "count = 0\n",
    "\n",
    "for i in insurance_object:\n",
    "    if i[\"bmi\"]:\n",
    "        i[\"bmi\"] = float(i[\"bmi\"])\n",
    "\n",
    "for j in insurance_object:\n",
    "    if j[\"smoker\"] == \"yes\":\n",
    "        bmi_sum += j[\"bmi\"]\n",
    "        count += 1\n",
    "average_smoker_bmi = round(bmi_sum/count, 2)\n",
    "print(average_smoker_bmi)\n"
   ]
  },
  {
   "cell_type": "markdown",
   "metadata": {},
   "source": [
    "### What is the average BMI for people who do not smoke?"
   ]
  },
  {
   "cell_type": "code",
   "execution_count": 48,
   "metadata": {},
   "outputs": [
    {
     "name": "stdout",
     "output_type": "stream",
     "text": [
      "30.65\n"
     ]
    }
   ],
   "source": [
    "nonsmoker_bmi_sum = 0\n",
    "count = 0\n",
    "\n",
    "for i in insurance_object:\n",
    "    if i[\"bmi\"]:\n",
    "        i[\"bmi\"] = float(i[\"bmi\"])\n",
    "\n",
    "for j in insurance_object:\n",
    "    if j[\"smoker\"] == \"no\":\n",
    "        nonsmoker_bmi_sum += j[\"bmi\"]\n",
    "        count += 1\n",
    "average_nonsmoker_bmi = round(nonsmoker_bmi_sum/count, 2)\n",
    "print(average_nonsmoker_bmi)\n"
   ]
  },
  {
   "cell_type": "markdown",
   "metadata": {},
   "source": [
    "### What is the average insurance cost for females?"
   ]
  },
  {
   "cell_type": "code",
   "execution_count": 49,
   "metadata": {},
   "outputs": [
    {
     "name": "stdout",
     "output_type": "stream",
     "text": [
      "12569.58\n"
     ]
    }
   ],
   "source": [
    "average_female_insurance_cost = 0\n",
    "count = 0\n",
    "\n",
    "for i in insurance_object:\n",
    "    if i[\"charges\"]:\n",
    "        i[\"charges\"] = float(i[\"charges\"])\n",
    "\n",
    "\n",
    "for j in insurance_object:\n",
    "    if j[\"sex\"] == \"female\":\n",
    "        average_female_insurance_cost += j[\"charges\"]\n",
    "        count += 1\n",
    "average_cost = round(average_female_insurance_cost/count, 2)\n",
    "print(average_cost)"
   ]
  },
  {
   "cell_type": "markdown",
   "metadata": {},
   "source": [
    "### What is the average insurance cost for males?"
   ]
  },
  {
   "cell_type": "code",
   "execution_count": 50,
   "metadata": {},
   "outputs": [
    {
     "name": "stdout",
     "output_type": "stream",
     "text": [
      "13956.75\n"
     ]
    }
   ],
   "source": [
    "average_male_insurance_cost = 0\n",
    "count = 0\n",
    "\n",
    "for i in insurance_object:\n",
    "    if i[\"charges\"]:\n",
    "        i[\"charges\"] = float(i[\"charges\"])\n",
    "\n",
    "\n",
    "for j in insurance_object:\n",
    "    if j[\"sex\"] == \"male\":\n",
    "        average_male_insurance_cost += j[\"charges\"]\n",
    "        count += 1\n",
    "average_cost = round(average_male_insurance_cost/count, 2)\n",
    "print(average_cost)"
   ]
  },
  {
   "cell_type": "markdown",
   "metadata": {},
   "source": [
    "### Is there a significant difference in average insurance cost between smokers and non-smokers?"
   ]
  },
  {
   "cell_type": "code",
   "execution_count": 58,
   "metadata": {},
   "outputs": [
    {
     "name": "stdout",
     "output_type": "stream",
     "text": [
      "6294.61 14728.88 8434.27\n"
     ]
    }
   ],
   "source": [
    "sum_of_smokers_insurance_cost = 0\n",
    "sum_of_nonsmokers_insurance_cost = 0\n",
    "count = 0\n",
    "non_smoker_count = 0\n",
    "\n",
    "for i in insurance_object:\n",
    "    if i[\"charges\"]:\n",
    "        i[\"charges\"] = float(i[\"charges\"])\n",
    "\n",
    "\n",
    "for j in insurance_object:\n",
    "    if j[\"smoker\"] == \"yes\":\n",
    "        sum_of_smokers_insurance_cost += j[\"charges\"]\n",
    "        count += 1\n",
    "average_smoker_insurance_cost = round(sum_of_insurance_cost/count, 2)\n",
    "\n",
    "\n",
    "\n",
    "for k in insurance_object:\n",
    "    if k[\"smoker\"] == \"no\":\n",
    "        sum_of_nonsmokers_insurance_cost += k[\"charges\"]\n",
    "        non_smoker_count += 1\n",
    "average_non_smoker_insurance_cost = round(sum_of_nonsmokers_insurance_cost/non_smoker_count, 2)\n",
    "\n",
    "\n",
    "difference_in_cost = round(abs(average_smoker_insurance_cost - average_non_smoker_insurance_cost), 2)\n",
    "print(difference_in_cost, average_smoker_insurance_cost, average_non_smoker_insurance_cost)"
   ]
  },
  {
   "cell_type": "markdown",
   "metadata": {},
   "source": [
    "### Which region has the highest number of smokers?"
   ]
  },
  {
   "cell_type": "code",
   "execution_count": 56,
   "metadata": {},
   "outputs": [
    {
     "name": "stdout",
     "output_type": "stream",
     "text": [
      "58 67 58 91\n"
     ]
    }
   ],
   "source": [
    "{'southwest', 'northeast', 'northwest', 'southeast'}\n",
    "southwest_list = []\n",
    "northeast_list = []\n",
    "northwest_list = []\n",
    "southeast_list = []\n",
    "\n",
    "for i in insurance_object:\n",
    "    if i[\"region\"] == \"southwest\" and i[\"smoker\"] == \"yes\":\n",
    "        southwest_list.append(i)\n",
    "    elif i[\"region\"] == \"northeast\" and i[\"smoker\"] == \"yes\":\n",
    "        northeast_list.append(i)\n",
    "    elif i[\"region\"] == \"northwest\" and i[\"smoker\"] == \"yes\":\n",
    "        northwest_list.append(i)\n",
    "    elif i[\"region\"] == \"southeast\" and i[\"smoker\"] == \"yes\":\n",
    "        southeast_list.append(i)\n",
    "southwest_count = len(southwest_list)\n",
    "northeast_count = len(northeast_list)\n",
    "northwest_count = len(northwest_list)\n",
    "southeast_count = len(southeast_list)\n",
    "\n",
    "print(southwest_count, northeast_count, northwest_count, southeast_count)\n"
   ]
  },
  {
   "cell_type": "markdown",
   "metadata": {},
   "source": [
    "### Are there more male smokers than female smokers?"
   ]
  },
  {
   "cell_type": "code",
   "execution_count": 57,
   "metadata": {},
   "outputs": [
    {
     "name": "stdout",
     "output_type": "stream",
     "text": [
      "159 115\n"
     ]
    }
   ],
   "source": [
    "male_smokers = []\n",
    "female_smokers = []\n",
    "\n",
    "for i in insurance_object:\n",
    "    if i[\"sex\"] == \"female\" and i[\"smoker\"] == \"yes\":\n",
    "        female_smokers.append(i)\n",
    "    elif i[\"sex\"] == \"male\" and i[\"smoker\"] == \"yes\":\n",
    "        male_smokers.append(i)\n",
    "male_smoker_count = len(male_smokers)\n",
    "female_smoker_count = len(female_smokers)\n",
    "print(male_smoker_count, female_smoker_count)"
   ]
  },
  {
   "cell_type": "markdown",
   "metadata": {},
   "source": [
    "## Conclusion"
   ]
  },
  {
   "cell_type": "markdown",
   "metadata": {},
   "source": [
    "- There are not more smokers in Southwest than in the Northwest region. Both regions have the same amount of smokers.\n",
    "- The average age for someone with at least 1 child or more is 39.8, which is approximately 40 years in age.\n",
    "- The average insurance cost for smokers in the Northwest is $12417.58.\n",
    "- The average BMI for smokers is 30.71.\n",
    "- The average BMI for non-smokers is 30.65.\n",
    "- The average insurance cost for females is $12569.58.\n",
    "- The average insurance cost for males is $13956.75.\n",
    "- The difference in the average insurance cost for smokers vs. non-smokers is $6294.61, with the average insurance cost for smokers being higher than the average insurance cost for non-smokers. Additionally, there means there is a huge difference in cost between smokers in non-smokers.\n",
    "- The region with the highest number of smokers is southeast.\n",
    "- There are more male smokers than female smokers."
   ]
  },
  {
   "cell_type": "markdown",
   "metadata": {},
   "source": [
    "## Next Steps\n",
    "\n",
    "- Creating visualizations to display data findings\n",
    "- Building a predictive model to estimate insurance charges\n",
    "- Examining interactions between multiple factors like age, BMI, and children\n",
    "- Comparing this dataset to newer health datasets"
   ]
  }
 ],
 "metadata": {
  "kernelspec": {
   "display_name": "Python 3",
   "language": "python",
   "name": "python3"
  },
  "language_info": {
   "codemirror_mode": {
    "name": "ipython",
    "version": 3
   },
   "file_extension": ".py",
   "mimetype": "text/x-python",
   "name": "python",
   "nbconvert_exporter": "python",
   "pygments_lexer": "ipython3",
   "version": "3.9.5"
  }
 },
 "nbformat": 4,
 "nbformat_minor": 4
}
