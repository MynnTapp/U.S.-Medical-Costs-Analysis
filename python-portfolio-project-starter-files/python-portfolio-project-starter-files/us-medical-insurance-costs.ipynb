{
 "cells": [
  {
   "cell_type": "markdown",
   "metadata": {},
   "source": [
    "# U.S. Medical Insurance Costs"
   ]
  },
  {
   "cell_type": "markdown",
   "metadata": {},
   "source": [
    "## Introduction:\n",
    "This notebook explores trends and relationships within a U.S. medical insurance dataset. The dataset contains attributes like age, sex, BMI, number of children, smoking status, region, and insurance charges.\n",
    "\n",
    "The goal is to answer several exploratory questions to uncover patterns related to smoking, gender, region, and insurance cost.\n"
   ]
  },
  {
   "cell_type": "markdown",
   "metadata": {},
   "source": [
    "## Goals:\n",
    "We aim to answer the following questions:\n",
    "- Do people in the Southwest smoke more than people in the Northwest?\n",
    "- What is the average age of someone with at least one child or more?\n",
    "- What is the average insurance cost for smokers in the Northwest?\n",
    "- What is the average BMI for people who smoke?\n",
    "- What is the average BMI for people who do not smoke?\n",
    "- What is the average insurance cost for females?\n",
    "- What is the average insurance cost for males?\n",
    "- Is there a significant difference in average insurance cost between smokers and non-smokers?\n",
    "- Which region has the highest number of smokers?\n",
    "- Are there more male smokers than female smokers?\n"
   ]
  },
  {
   "cell_type": "markdown",
   "metadata": {},
   "source": [
    "## Load Data\n",
    "\n"
   ]
  },
  {
   "cell_type": "code",
   "execution_count": null,
   "metadata": {},
   "outputs": [],
   "source": [
    "import csv\n",
    "\n",
    "with open(\"insurance.csv\") as insurance_data:\n",
    "    insurance_data_object = csv.DictReader(insurance_data)\n",
    "    insurance_object = list(insurance_data_object)\n",
    "print(insurance_object)"
   ]
  },
  {
   "cell_type": "markdown",
   "metadata": {},
   "source": [
    "## Exploratory Data Analysis (EDA)"
   ]
  },
  {
   "cell_type": "markdown",
   "metadata": {},
   "source": [
    "### Do people in the Southwest smoke more than people in the Northwest?"
   ]
  },
  {
   "cell_type": "code",
   "execution_count": 9,
   "metadata": {},
   "outputs": [
    {
     "name": "stdout",
     "output_type": "stream",
     "text": [
      "58 58\n"
     ]
    }
   ],
   "source": [
    "southwest_smokers = []\n",
    "northwest_smokers = []\n",
    "for i in insurance_object:\n",
    "    if i[\"smoker\"] == \"yes\" and i[\"region\"] == \"southwest\":\n",
    "        southwest_smokers.append(i)\n",
    "    elif i[\"smoker\"] == \"yes\" and i[\"region\"] == \"northwest\":\n",
    "        northwest_smokers.append(i)\n",
    "print(len(southwest_smokers), len(northwest_smokers))"
   ]
  },
  {
   "cell_type": "markdown",
   "metadata": {},
   "source": [
    "### What is the average age of someone with at least one child or more?"
   ]
  },
  {
   "cell_type": "code",
   "execution_count": 19,
   "metadata": {},
   "outputs": [
    {
     "name": "stdout",
     "output_type": "stream",
     "text": [
      "39.2\n"
     ]
    }
   ],
   "source": [
    "people_with_children = []\n",
    "\n",
    "for i in insurance_object:\n",
    "    if i[\"children\"] or i[\"age\"]:\n",
    "        i[\"children\"] = int(i[\"children\"])\n",
    "        i[\"age\"] = int(i[\"age\"])\n",
    "# print(insurance_object)\n",
    "\n",
    "sum_of_ages = 0\n",
    "\n",
    "for j in insurance_object:\n",
    "    if j[\"children\"] > 0:\n",
    "        people_with_children.append(j)\n",
    "        sum_of_ages += j[\"age\"]\n",
    "average_age = round(sum_of_ages/len(people_with_children), 1)\n",
    "print(average_age)"
   ]
  },
  {
   "cell_type": "markdown",
   "metadata": {},
   "source": [
    "### What is the average insurance cost for smokers in the Northwest?"
   ]
  },
  {
   "cell_type": "code",
   "execution_count": 31,
   "metadata": {},
   "outputs": [
    {
     "name": "stdout",
     "output_type": "stream",
     "text": [
      "12417.58\n"
     ]
    }
   ],
   "source": [
    "sum_of_insurance_cost = 0\n",
    "count = 0\n",
    "\n",
    "for i in insurance_object:\n",
    "    if i[\"charges\"]:\n",
    "        i[\"charges\"] = float(i[\"charges\"])\n",
    "\n",
    "\n",
    "for j in insurance_object:\n",
    "    if j[\"region\"] == \"northwest\":\n",
    "        sum_of_insurance_cost += j[\"charges\"]\n",
    "        count += 1\n",
    "average_insurance_northwest = round(sum_of_insurance_cost/count, 2)\n",
    "print(average_insurance_northwest)"
   ]
  },
  {
   "cell_type": "markdown",
   "metadata": {},
   "source": [
    "### What is the average BMI for people who smoke?"
   ]
  },
  {
   "cell_type": "code",
   "execution_count": 30,
   "metadata": {},
   "outputs": [
    {
     "name": "stdout",
     "output_type": "stream",
     "text": [
      "30.71\n"
     ]
    }
   ],
   "source": [
    "bmi_sum = 0\n",
    "count = 0\n",
    "\n",
    "for i in insurance_object:\n",
    "    if i[\"bmi\"]:\n",
    "        i[\"bmi\"] = float(i[\"bmi\"])\n",
    "\n",
    "for j in insurance_object:\n",
    "    if j[\"smoker\"] == \"yes\":\n",
    "        bmi_sum += j[\"bmi\"]\n",
    "        count += 1\n",
    "average_smoker_bmi = round(bmi_sum/count, 2)\n",
    "print(average_smoker_bmi)\n"
   ]
  }
 ],
 "metadata": {
  "kernelspec": {
   "display_name": "Python 3",
   "language": "python",
   "name": "python3"
  },
  "language_info": {
   "codemirror_mode": {
    "name": "ipython",
    "version": 3
   },
   "file_extension": ".py",
   "mimetype": "text/x-python",
   "name": "python",
   "nbconvert_exporter": "python",
   "pygments_lexer": "ipython3",
   "version": "3.9.5"
  }
 },
 "nbformat": 4,
 "nbformat_minor": 4
}
