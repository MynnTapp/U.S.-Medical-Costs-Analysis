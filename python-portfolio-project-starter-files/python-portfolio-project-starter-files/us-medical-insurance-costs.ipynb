{
 "cells": [
  {
   "cell_type": "markdown",
   "metadata": {},
   "source": [
    "# U.S. Medical Insurance Costs"
   ]
  },
  {
   "cell_type": "markdown",
   "metadata": {},
   "source": [
    "## Introduction:\n",
    "This notebook explores trends and relationships within a U.S. medical insurance dataset. The dataset contains attributes like age, sex, BMI, number of children, smoking status, region, and insurance charges.\n",
    "\n",
    "The goal is to answer several exploratory questions to uncover patterns related to smoking, gender, region, and insurance cost.\n"
   ]
  },
  {
   "cell_type": "markdown",
   "metadata": {},
   "source": [
    "## Goals:\n",
    "We aim to answer the following questions:\n",
    "- Do people in the Southwest smoke more than people in the Northwest?\n",
    "- What is the average age of someone with at least one child?\n",
    "- What is the average insurance cost for smokers in the Northwest?\n",
    "- What is the average BMI for people who smoke?\n",
    "- What is the average BMI for people who do not smoke?\n",
    "- What is the average insurance cost for females?\n",
    "- What is the average insurance cost for males?\n",
    "- Is there a significant difference in average insurance cost between smokers and non-smokers?\n",
    "- Which region has the highest number of smokers?\n",
    "- Are there more male smokers than female smokers?\n"
   ]
  },
  {
   "cell_type": "markdown",
   "metadata": {},
   "source": [
    "## Load Data\n",
    "\n"
   ]
  },
  {
   "cell_type": "code",
   "execution_count": null,
   "metadata": {},
   "outputs": [],
   "source": [
    "import csv\n",
    "\n",
    "with open(\"insurance.csv\") as insurance_data:\n",
    "    insurance_data_object = csv.DictReader(insurance_data)\n",
    "    print(list(insurance_data_object))"
   ]
  }
 ],
 "metadata": {
  "kernelspec": {
   "display_name": "Python 3",
   "language": "python",
   "name": "python3"
  },
  "language_info": {
   "codemirror_mode": {
    "name": "ipython",
    "version": 3
   },
   "file_extension": ".py",
   "mimetype": "text/x-python",
   "name": "python",
   "nbconvert_exporter": "python",
   "pygments_lexer": "ipython3",
   "version": "3.9.5"
  }
 },
 "nbformat": 4,
 "nbformat_minor": 4
}
